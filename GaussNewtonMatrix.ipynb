{
 "cells": [
  {
   "cell_type": "code",
   "execution_count": 8,
   "metadata": {},
   "outputs": [
    {
     "name": "stdout",
     "output_type": "stream",
     "text": [
      "L(t)=1/2||f(t)||^2\n"
     ]
    },
    {
     "data": {
      "image/png": "[encoded data removed]",
      "text/latex": [
       "$$\\frac{\\left|{\\operatorname{f_{1}}{\\left (t_{1},t_{2} \\right )}}\\right|^{2}}{2} + \\frac{\\left|{\\operatorname{f_{2}}{\\left (t_{1},t_{2} \\right )}}\\right|^{2}}{2}$$"
      ],
      "text/plain": [
       "            2               2\n",
       "│f₁(t₁, t₂)│    │f₂(t₁, t₂)│ \n",
       "───────────── + ─────────────\n",
       "      2               2      "
      ]
     },
     "metadata": {},
     "output_type": "display_data"
    },
    {
     "name": "stdout",
     "output_type": "stream",
     "text": [
      "dL/df\n"
     ]
    },
    {
     "data": {
      "text/latex": [
       "$$\\left[\\begin{matrix}\\operatorname{f_{1}}{\\left (t_{1},t_{2} \\right )}\\\\\\operatorname{f_{2}}{\\left (t_{1},t_{2} \\right )}\\end{matrix}\\right]$$"
      ],
      "text/plain": [
       "⎡f₁(t₁, t₂)⎤\n",
       "⎢          ⎥\n",
       "⎣f₂(t₁, t₂)⎦"
      ]
     },
     "metadata": {},
     "output_type": "display_data"
    },
    {
     "name": "stdout",
     "output_type": "stream",
     "text": [
      "dL/dt\n"
     ]
    },
    {
     "data": {
      "text/latex": [
       "$$\\left[\\begin{matrix}\\operatorname{f_{1}}{\\left (t_{1},t_{2} \\right )} \\frac{\\partial}{\\partial t_{1}} \\operatorname{f_{1}}{\\left (t_{1},t_{2} \\right )} + \\operatorname{f_{2}}{\\left (t_{1},t_{2} \\right )} \\frac{\\partial}{\\partial t_{1}} \\operatorname{f_{2}}{\\left (t_{1},t_{2} \\right )}\\\\\\operatorname{f_{1}}{\\left (t_{1},t_{2} \\right )} \\frac{\\partial}{\\partial t_{2}} \\operatorname{f_{1}}{\\left (t_{1},t_{2} \\right )} + \\operatorname{f_{2}}{\\left (t_{1},t_{2} \\right )} \\frac{\\partial}{\\partial t_{2}} \\operatorname{f_{2}}{\\left (t_{1},t_{2} \\right )}\\end{matrix}\\right]$$"
      ],
      "text/plain": [
       "⎡            ∂                            ∂             ⎤\n",
       "⎢f₁(t₁, t₂)⋅───(f₁(t₁, t₂)) + f₂(t₁, t₂)⋅───(f₂(t₁, t₂))⎥\n",
       "⎢           ∂t₁                          ∂t₁            ⎥\n",
       "⎢                                                       ⎥\n",
       "⎢            ∂                            ∂             ⎥\n",
       "⎢f₁(t₁, t₂)⋅───(f₁(t₁, t₂)) + f₂(t₁, t₂)⋅───(f₂(t₁, t₂))⎥\n",
       "⎣           ∂t₂                          ∂t₂            ⎦"
      ]
     },
     "metadata": {},
     "output_type": "display_data"
    },
    {
     "name": "stdout",
     "output_type": "stream",
     "text": [
      "Hessian L->t 直接计算\n"
     ]
    },
    {
     "data": {
      "text/latex": [
       "$$\\left[\\begin{matrix}\\operatorname{f_{1}}{\\left (t_{1},t_{2} \\right )} \\frac{\\partial^{2}}{\\partial t_{1}^{2}} \\operatorname{f_{1}}{\\left (t_{1},t_{2} \\right )} + \\operatorname{f_{2}}{\\left (t_{1},t_{2} \\right )} \\frac{\\partial^{2}}{\\partial t_{1}^{2}} \\operatorname{f_{2}}{\\left (t_{1},t_{2} \\right )} + \\left(\\frac{\\partial}{\\partial t_{1}} \\operatorname{f_{1}}{\\left (t_{1},t_{2} \\right )}\\right)^{2} + \\left(\\frac{\\partial}{\\partial t_{1}} \\operatorname{f_{2}}{\\left (t_{1},t_{2} \\right )}\\right)^{2} & \\operatorname{f_{1}}{\\left (t_{1},t_{2} \\right )} \\frac{\\partial^{2}}{\\partial t_{2}\\partial t_{1}} \\operatorname{f_{1}}{\\left (t_{1},t_{2} \\right )} + \\operatorname{f_{2}}{\\left (t_{1},t_{2} \\right )} \\frac{\\partial^{2}}{\\partial t_{2}\\partial t_{1}} \\operatorname{f_{2}}{\\left (t_{1},t_{2} \\right )} + \\frac{\\partial}{\\partial t_{1}} \\operatorname{f_{1}}{\\left (t_{1},t_{2} \\right )} \\frac{\\partial}{\\partial t_{2}} \\operatorname{f_{1}}{\\left (t_{1},t_{2} \\right )} + \\frac{\\partial}{\\partial t_{1}} \\operatorname{f_{2}}{\\left (t_{1},t_{2} \\right )} \\frac{\\partial}{\\partial t_{2}} \\operatorname{f_{2}}{\\left (t_{1},t_{2} \\right )}\\\\\\operatorname{f_{1}}{\\left (t_{1},t_{2} \\right )} \\frac{\\partial^{2}}{\\partial t_{2}\\partial t_{1}} \\operatorname{f_{1}}{\\left (t_{1},t_{2} \\right )} + \\operatorname{f_{2}}{\\left (t_{1},t_{2} \\right )} \\frac{\\partial^{2}}{\\partial t_{2}\\partial t_{1}} \\operatorname{f_{2}}{\\left (t_{1},t_{2} \\right )} + \\frac{\\partial}{\\partial t_{1}} \\operatorname{f_{1}}{\\left (t_{1},t_{2} \\right )} \\frac{\\partial}{\\partial t_{2}} \\operatorname{f_{1}}{\\left (t_{1},t_{2} \\right )} + \\frac{\\partial}{\\partial t_{1}} \\operatorname{f_{2}}{\\left (t_{1},t_{2} \\right )} \\frac{\\partial}{\\partial t_{2}} \\operatorname{f_{2}}{\\left (t_{1},t_{2} \\right )} & \\operatorname{f_{1}}{\\left (t_{1},t_{2} \\right )} \\frac{\\partial^{2}}{\\partial t_{2}^{2}} \\operatorname{f_{1}}{\\left (t_{1},t_{2} \\right )} + \\operatorname{f_{2}}{\\left (t_{1},t_{2} \\right )} \\frac{\\partial^{2}}{\\partial t_{2}^{2}} \\operatorname{f_{2}}{\\left (t_{1},t_{2} \\right )} + \\left(\\frac{\\partial}{\\partial t_{2}} \\operatorname{f_{1}}{\\left (t_{1},t_{2} \\right )}\\right)^{2} + \\left(\\frac{\\partial}{\\partial t_{2}} \\operatorname{f_{2}}{\\left (t_{1},t_{2} \\right )}\\right)^{2}\\end{matrix}\\right]$$"
      ],
      "text/plain": [
       "⎡                             2                             2                 \n",
       "⎢                            ∂                             ∂                 ⎛\n",
       "⎢                f₁(t₁, t₂)⋅────(f₁(t₁, t₂)) + f₂(t₁, t₂)⋅────(f₂(t₁, t₂)) + ⎜\n",
       "⎢                              2                             2               ⎝\n",
       "⎢                           ∂t₁                           ∂t₁                 \n",
       "⎢                                                                             \n",
       "⎢               2                                2                            \n",
       "⎢              ∂                                ∂                   ∂         \n",
       "⎢f₁(t₁, t₂)⋅───────(f₁(t₁, t₂)) + f₂(t₁, t₂)⋅───────(f₂(t₁, t₂)) + ───(f₁(t₁, \n",
       "⎢           ∂t₂ ∂t₁                          ∂t₂ ∂t₁               ∂t₁        \n",
       "⎣                                                                             \n",
       "\n",
       "                2                    2                                 2      \n",
       " ∂             ⎞    ⎛ ∂             ⎞                                 ∂       \n",
       "───(f₁(t₁, t₂))⎟  + ⎜───(f₂(t₁, t₂))⎟                   f₁(t₁, t₂)⋅───────(f₁(\n",
       "∂t₁            ⎠    ⎝∂t₁            ⎠                              ∂t₂ ∂t₁    \n",
       "                                                                              \n",
       "                                                                              \n",
       "                                                                              \n",
       "      ∂                 ∂               ∂                                     \n",
       "t₂))⋅───(f₁(t₁, t₂)) + ───(f₂(t₁, t₂))⋅───(f₂(t₁, t₂))                  f₁(t₁,\n",
       "     ∂t₂               ∂t₁             ∂t₂                                    \n",
       "                                                                              \n",
       "\n",
       "                          2                                                   \n",
       "                         ∂                   ∂               ∂                \n",
       "t₁, t₂)) + f₂(t₁, t₂)⋅───────(f₂(t₁, t₂)) + ───(f₁(t₁, t₂))⋅───(f₁(t₁, t₂)) + \n",
       "                      ∂t₂ ∂t₁               ∂t₁             ∂t₂               \n",
       "                                                                              \n",
       "                                                                              \n",
       "       2                             2                                 2      \n",
       "      ∂                             ∂                 ⎛ ∂             ⎞    ⎛ ∂\n",
       " t₂)⋅────(f₁(t₁, t₂)) + f₂(t₁, t₂)⋅────(f₂(t₁, t₂)) + ⎜───(f₁(t₁, t₂))⎟  + ⎜──\n",
       "        2                             2               ⎝∂t₂            ⎠    ⎝∂t\n",
       "     ∂t₂                           ∂t₂                                        \n",
       "\n",
       "                               ⎤\n",
       " ∂               ∂             ⎥\n",
       "───(f₂(t₁, t₂))⋅───(f₂(t₁, t₂))⎥\n",
       "∂t₁             ∂t₂            ⎥\n",
       "                               ⎥\n",
       "                               ⎥\n",
       "              2                ⎥\n",
       "             ⎞                 ⎥\n",
       "─(f₂(t₁, t₂))⎟                 ⎥\n",
       "₂            ⎠                 ⎥\n",
       "                               ⎦"
      ]
     },
     "metadata": {},
     "output_type": "display_data"
    },
    {
     "name": "stdout",
     "output_type": "stream",
     "text": [
      "Jf Jacobi f->t\n"
     ]
    },
    {
     "data": {
      "text/latex": [
       "$$\\left[\\begin{matrix}\\frac{\\partial}{\\partial t_{1}} \\operatorname{f_{1}}{\\left (t_{1},t_{2} \\right )} & \\frac{\\partial}{\\partial t_{2}} \\operatorname{f_{1}}{\\left (t_{1},t_{2} \\right )}\\\\\\frac{\\partial}{\\partial t_{1}} \\operatorname{f_{2}}{\\left (t_{1},t_{2} \\right )} & \\frac{\\partial}{\\partial t_{2}} \\operatorname{f_{2}}{\\left (t_{1},t_{2} \\right )}\\end{matrix}\\right]$$"
      ],
      "text/plain": [
       "⎡ ∂                ∂             ⎤\n",
       "⎢───(f₁(t₁, t₂))  ───(f₁(t₁, t₂))⎥\n",
       "⎢∂t₁              ∂t₂            ⎥\n",
       "⎢                                ⎥\n",
       "⎢ ∂                ∂             ⎥\n",
       "⎢───(f₂(t₁, t₂))  ───(f₂(t₁, t₂))⎥\n",
       "⎣∂t₁              ∂t₂            ⎦"
      ]
     },
     "metadata": {},
     "output_type": "display_data"
    },
    {
     "name": "stdout",
     "output_type": "stream",
     "text": [
      "Gauss-Newton term1: Jf.T*Jf\n"
     ]
    },
    {
     "data": {
      "text/latex": [
       "$$\\left[\\begin{matrix}\\left(\\frac{\\partial}{\\partial t_{1}} \\operatorname{f_{1}}{\\left (t_{1},t_{2} \\right )}\\right)^{2} + \\left(\\frac{\\partial}{\\partial t_{1}} \\operatorname{f_{2}}{\\left (t_{1},t_{2} \\right )}\\right)^{2} & \\frac{\\partial}{\\partial t_{1}} \\operatorname{f_{1}}{\\left (t_{1},t_{2} \\right )} \\frac{\\partial}{\\partial t_{2}} \\operatorname{f_{1}}{\\left (t_{1},t_{2} \\right )} + \\frac{\\partial}{\\partial t_{1}} \\operatorname{f_{2}}{\\left (t_{1},t_{2} \\right )} \\frac{\\partial}{\\partial t_{2}} \\operatorname{f_{2}}{\\left (t_{1},t_{2} \\right )}\\\\\\frac{\\partial}{\\partial t_{1}} \\operatorname{f_{1}}{\\left (t_{1},t_{2} \\right )} \\frac{\\partial}{\\partial t_{2}} \\operatorname{f_{1}}{\\left (t_{1},t_{2} \\right )} + \\frac{\\partial}{\\partial t_{1}} \\operatorname{f_{2}}{\\left (t_{1},t_{2} \\right )} \\frac{\\partial}{\\partial t_{2}} \\operatorname{f_{2}}{\\left (t_{1},t_{2} \\right )} & \\left(\\frac{\\partial}{\\partial t_{2}} \\operatorname{f_{1}}{\\left (t_{1},t_{2} \\right )}\\right)^{2} + \\left(\\frac{\\partial}{\\partial t_{2}} \\operatorname{f_{2}}{\\left (t_{1},t_{2} \\right )}\\right)^{2}\\end{matrix}\\right]$$"
      ],
      "text/plain": [
       "⎡                              2                    2                         \n",
       "⎢             ⎛ ∂             ⎞    ⎛ ∂             ⎞                 ∂        \n",
       "⎢             ⎜───(f₁(t₁, t₂))⎟  + ⎜───(f₂(t₁, t₂))⎟                ───(f₁(t₁,\n",
       "⎢             ⎝∂t₁            ⎠    ⎝∂t₁            ⎠                ∂t₁       \n",
       "⎢                                                                             \n",
       "⎢                                                                             \n",
       "⎢ ∂               ∂                 ∂               ∂                         \n",
       "⎢───(f₁(t₁, t₂))⋅───(f₁(t₁, t₂)) + ───(f₂(t₁, t₂))⋅───(f₂(t₁, t₂))            \n",
       "⎣∂t₁             ∂t₂               ∂t₁             ∂t₂                        \n",
       "\n",
       "                                                       ⎤\n",
       "       ∂                 ∂               ∂             ⎥\n",
       " t₂))⋅───(f₁(t₁, t₂)) + ───(f₂(t₁, t₂))⋅───(f₂(t₁, t₂))⎥\n",
       "      ∂t₂               ∂t₁             ∂t₂            ⎥\n",
       "                                                       ⎥\n",
       "                    2                    2             ⎥\n",
       "   ⎛ ∂             ⎞    ⎛ ∂             ⎞              ⎥\n",
       "   ⎜───(f₁(t₁, t₂))⎟  + ⎜───(f₂(t₁, t₂))⎟              ⎥\n",
       "   ⎝∂t₂            ⎠    ⎝∂t₂            ⎠              ⎦"
      ]
     },
     "metadata": {},
     "output_type": "display_data"
    },
    {
     "name": "stdout",
     "output_type": "stream",
     "text": [
      "Gauss-Newton term2: Hessian f->t\n"
     ]
    },
    {
     "data": {
      "text/latex": [
       "$$\\left[\\begin{matrix}\\operatorname{f_{1}}{\\left (t_{1},t_{2} \\right )} \\frac{\\partial^{2}}{\\partial t_{1}^{2}} \\operatorname{f_{1}}{\\left (t_{1},t_{2} \\right )} + \\operatorname{f_{2}}{\\left (t_{1},t_{2} \\right )} \\frac{\\partial^{2}}{\\partial t_{1}^{2}} \\operatorname{f_{2}}{\\left (t_{1},t_{2} \\right )} & \\operatorname{f_{1}}{\\left (t_{1},t_{2} \\right )} \\frac{\\partial^{2}}{\\partial t_{2}\\partial t_{1}} \\operatorname{f_{1}}{\\left (t_{1},t_{2} \\right )} + \\operatorname{f_{2}}{\\left (t_{1},t_{2} \\right )} \\frac{\\partial^{2}}{\\partial t_{2}\\partial t_{1}} \\operatorname{f_{2}}{\\left (t_{1},t_{2} \\right )}\\\\\\operatorname{f_{1}}{\\left (t_{1},t_{2} \\right )} \\frac{\\partial^{2}}{\\partial t_{2}\\partial t_{1}} \\operatorname{f_{1}}{\\left (t_{1},t_{2} \\right )} + \\operatorname{f_{2}}{\\left (t_{1},t_{2} \\right )} \\frac{\\partial^{2}}{\\partial t_{2}\\partial t_{1}} \\operatorname{f_{2}}{\\left (t_{1},t_{2} \\right )} & \\operatorname{f_{1}}{\\left (t_{1},t_{2} \\right )} \\frac{\\partial^{2}}{\\partial t_{2}^{2}} \\operatorname{f_{1}}{\\left (t_{1},t_{2} \\right )} + \\operatorname{f_{2}}{\\left (t_{1},t_{2} \\right )} \\frac{\\partial^{2}}{\\partial t_{2}^{2}} \\operatorname{f_{2}}{\\left (t_{1},t_{2} \\right )}\\end{matrix}\\right]$$"
      ],
      "text/plain": [
       "⎡                2                             2                              \n",
       "⎢               ∂                             ∂                               \n",
       "⎢   f₁(t₁, t₂)⋅────(f₁(t₁, t₂)) + f₂(t₁, t₂)⋅────(f₂(t₁, t₂))     f₁(t₁, t₂)⋅─\n",
       "⎢                 2                             2                            ∂\n",
       "⎢              ∂t₁                           ∂t₁                              \n",
       "⎢                                                                             \n",
       "⎢               2                                2                            \n",
       "⎢              ∂                                ∂                             \n",
       "⎢f₁(t₁, t₂)⋅───────(f₁(t₁, t₂)) + f₂(t₁, t₂)⋅───────(f₂(t₁, t₂))     f₁(t₁, t₂\n",
       "⎢           ∂t₂ ∂t₁                          ∂t₂ ∂t₁                          \n",
       "⎣                                                                             \n",
       "\n",
       "   2                                2              ⎤\n",
       "  ∂                                ∂               ⎥\n",
       "──────(f₁(t₁, t₂)) + f₂(t₁, t₂)⋅───────(f₂(t₁, t₂))⎥\n",
       "t₂ ∂t₁                          ∂t₂ ∂t₁            ⎥\n",
       "                                                   ⎥\n",
       "                                                   ⎥\n",
       "    2                             2                ⎥\n",
       "   ∂                             ∂                 ⎥\n",
       ")⋅────(f₁(t₁, t₂)) + f₂(t₁, t₂)⋅────(f₂(t₁, t₂))   ⎥\n",
       "     2                             2               ⎥\n",
       "  ∂t₂                           ∂t₂                ⎦"
      ]
     },
     "metadata": {},
     "output_type": "display_data"
    },
    {
     "name": "stdout",
     "output_type": "stream",
     "text": [
      "Gauss-Newton term1+term2: Jf.T*Jf + Hf\n"
     ]
    },
    {
     "data": {
      "text/latex": [
       "$$\\left[\\begin{matrix}\\operatorname{f_{1}}{\\left (t_{1},t_{2} \\right )} \\frac{\\partial^{2}}{\\partial t_{1}^{2}} \\operatorname{f_{1}}{\\left (t_{1},t_{2} \\right )} + \\operatorname{f_{2}}{\\left (t_{1},t_{2} \\right )} \\frac{\\partial^{2}}{\\partial t_{1}^{2}} \\operatorname{f_{2}}{\\left (t_{1},t_{2} \\right )} + \\left(\\frac{\\partial}{\\partial t_{1}} \\operatorname{f_{1}}{\\left (t_{1},t_{2} \\right )}\\right)^{2} + \\left(\\frac{\\partial}{\\partial t_{1}} \\operatorname{f_{2}}{\\left (t_{1},t_{2} \\right )}\\right)^{2} & \\operatorname{f_{1}}{\\left (t_{1},t_{2} \\right )} \\frac{\\partial^{2}}{\\partial t_{2}\\partial t_{1}} \\operatorname{f_{1}}{\\left (t_{1},t_{2} \\right )} + \\operatorname{f_{2}}{\\left (t_{1},t_{2} \\right )} \\frac{\\partial^{2}}{\\partial t_{2}\\partial t_{1}} \\operatorname{f_{2}}{\\left (t_{1},t_{2} \\right )} + \\frac{\\partial}{\\partial t_{1}} \\operatorname{f_{1}}{\\left (t_{1},t_{2} \\right )} \\frac{\\partial}{\\partial t_{2}} \\operatorname{f_{1}}{\\left (t_{1},t_{2} \\right )} + \\frac{\\partial}{\\partial t_{1}} \\operatorname{f_{2}}{\\left (t_{1},t_{2} \\right )} \\frac{\\partial}{\\partial t_{2}} \\operatorname{f_{2}}{\\left (t_{1},t_{2} \\right )}\\\\\\operatorname{f_{1}}{\\left (t_{1},t_{2} \\right )} \\frac{\\partial^{2}}{\\partial t_{2}\\partial t_{1}} \\operatorname{f_{1}}{\\left (t_{1},t_{2} \\right )} + \\operatorname{f_{2}}{\\left (t_{1},t_{2} \\right )} \\frac{\\partial^{2}}{\\partial t_{2}\\partial t_{1}} \\operatorname{f_{2}}{\\left (t_{1},t_{2} \\right )} + \\frac{\\partial}{\\partial t_{1}} \\operatorname{f_{1}}{\\left (t_{1},t_{2} \\right )} \\frac{\\partial}{\\partial t_{2}} \\operatorname{f_{1}}{\\left (t_{1},t_{2} \\right )} + \\frac{\\partial}{\\partial t_{1}} \\operatorname{f_{2}}{\\left (t_{1},t_{2} \\right )} \\frac{\\partial}{\\partial t_{2}} \\operatorname{f_{2}}{\\left (t_{1},t_{2} \\right )} & \\operatorname{f_{1}}{\\left (t_{1},t_{2} \\right )} \\frac{\\partial^{2}}{\\partial t_{2}^{2}} \\operatorname{f_{1}}{\\left (t_{1},t_{2} \\right )} + \\operatorname{f_{2}}{\\left (t_{1},t_{2} \\right )} \\frac{\\partial^{2}}{\\partial t_{2}^{2}} \\operatorname{f_{2}}{\\left (t_{1},t_{2} \\right )} + \\left(\\frac{\\partial}{\\partial t_{2}} \\operatorname{f_{1}}{\\left (t_{1},t_{2} \\right )}\\right)^{2} + \\left(\\frac{\\partial}{\\partial t_{2}} \\operatorname{f_{2}}{\\left (t_{1},t_{2} \\right )}\\right)^{2}\\end{matrix}\\right]$$"
      ],
      "text/plain": [
       "⎡                             2                             2                 \n",
       "⎢                            ∂                             ∂                 ⎛\n",
       "⎢                f₁(t₁, t₂)⋅────(f₁(t₁, t₂)) + f₂(t₁, t₂)⋅────(f₂(t₁, t₂)) + ⎜\n",
       "⎢                              2                             2               ⎝\n",
       "⎢                           ∂t₁                           ∂t₁                 \n",
       "⎢                                                                             \n",
       "⎢               2                                2                            \n",
       "⎢              ∂                                ∂                   ∂         \n",
       "⎢f₁(t₁, t₂)⋅───────(f₁(t₁, t₂)) + f₂(t₁, t₂)⋅───────(f₂(t₁, t₂)) + ───(f₁(t₁, \n",
       "⎢           ∂t₂ ∂t₁                          ∂t₂ ∂t₁               ∂t₁        \n",
       "⎣                                                                             \n",
       "\n",
       "                2                    2                                 2      \n",
       " ∂             ⎞    ⎛ ∂             ⎞                                 ∂       \n",
       "───(f₁(t₁, t₂))⎟  + ⎜───(f₂(t₁, t₂))⎟                   f₁(t₁, t₂)⋅───────(f₁(\n",
       "∂t₁            ⎠    ⎝∂t₁            ⎠                              ∂t₂ ∂t₁    \n",
       "                                                                              \n",
       "                                                                              \n",
       "                                                                              \n",
       "      ∂                 ∂               ∂                                     \n",
       "t₂))⋅───(f₁(t₁, t₂)) + ───(f₂(t₁, t₂))⋅───(f₂(t₁, t₂))                  f₁(t₁,\n",
       "     ∂t₂               ∂t₁             ∂t₂                                    \n",
       "                                                                              \n",
       "\n",
       "                          2                                                   \n",
       "                         ∂                   ∂               ∂                \n",
       "t₁, t₂)) + f₂(t₁, t₂)⋅───────(f₂(t₁, t₂)) + ───(f₁(t₁, t₂))⋅───(f₁(t₁, t₂)) + \n",
       "                      ∂t₂ ∂t₁               ∂t₁             ∂t₂               \n",
       "                                                                              \n",
       "                                                                              \n",
       "       2                             2                                 2      \n",
       "      ∂                             ∂                 ⎛ ∂             ⎞    ⎛ ∂\n",
       " t₂)⋅────(f₁(t₁, t₂)) + f₂(t₁, t₂)⋅────(f₂(t₁, t₂)) + ⎜───(f₁(t₁, t₂))⎟  + ⎜──\n",
       "        2                             2               ⎝∂t₂            ⎠    ⎝∂t\n",
       "     ∂t₂                           ∂t₂                                        \n",
       "\n",
       "                               ⎤\n",
       " ∂               ∂             ⎥\n",
       "───(f₂(t₁, t₂))⋅───(f₂(t₁, t₂))⎥\n",
       "∂t₁             ∂t₂            ⎥\n",
       "                               ⎥\n",
       "                               ⎥\n",
       "              2                ⎥\n",
       "             ⎞                 ⎥\n",
       "─(f₂(t₁, t₂))⎟                 ⎥\n",
       "₂            ⎠                 ⎥\n",
       "                               ⎦"
      ]
     },
     "metadata": {},
     "output_type": "display_data"
    },
    {
     "name": "stdout",
     "output_type": "stream",
     "text": [
      "\n",
      "Hessian 直接计算==Gauss-Newton term1+term2 True \n",
      "\n"
     ]
    }
   ],
   "source": [
    "from IPython.display import display\n",
    "from sympy import *\n",
    "from sympy.physics.quantum import TensorProduct\n",
    "init_printing(use_latex=True)\n",
    "\n",
    "\n",
    "y = Matrix(var('y1:3'))\n",
    "\n",
    "t = Matrix(var('t1:3'))\n",
    "f1 = Function('f1')(*t)\n",
    "f2 = Function('f2')(*t)\n",
    "\n",
    "f = Matrix([f1,f2])\n",
    "#r = f-y\n",
    "r = f\n",
    "\n",
    "Ldisp = r.norm()**2/2\n",
    "#L = (f1**2+f2**2)/2\n",
    "L = (r[0]**2+r[1]**2)/2\n",
    "\n",
    "#print('L(t)=1/2||f(t)-y||^2')\n",
    "print('L(t)=1/2||f(t)||^2')\n",
    "display(Ldisp)\n",
    "print('dL/df')\n",
    "display(L.diff(f))\n",
    "print('dL/dt')\n",
    "display(L.diff(t))\n",
    "HL = hessian(L, t)\n",
    "print('Hessian L->t 直接计算')\n",
    "display(HL)\n",
    "Jf = Matrix([f1.diff(t).T, f2.diff(t).T])\n",
    "print('Jf Jacobi f->t')\n",
    "display(Jf)\n",
    "print('Gauss-Newton term1: Jf.T*Jf')\n",
    "Hf = Jf.T*Jf\n",
    "display(Hf)\n",
    "Hf2 = r[0]*hessian(f1, t) + r[1]*hessian(f2, t)\n",
    "print('Gauss-Newton term2: Hessian f->t')\n",
    "display(Hf2)\n",
    "Hf_ = Hf+Hf2\n",
    "print('Gauss-Newton term1+term2: Jf.T*Jf + Hf')\n",
    "display(Hf_)\n",
    "\n",
    "print('\\nHessian 直接计算==Gauss-Newton term1+term2', HL==Hf_, '\\n')\n",
    "\n",
    "\n",
    "#dtL = L.diff(t)\n",
    "#dt1,dt2 = dtL\n",
    "#print('Hessian by hand')\n",
    "#HL1 = Matrix([dt1.diff(t).T, dt2.diff(t).T])\n",
    "#display(HL1)\n",
    "\n",
    "\n",
    "#Hl = hessian(L, f)\n",
    "#display(Jf.T*Hl*Jf)\n"
   ]
  }
 ],
 "metadata": {
  "kernelspec": {
   "display_name": "Python 3",
   "language": "python",
   "name": "python3"
  },
  "language_info": {
   "codemirror_mode": {
    "name": "ipython",
    "version": 3
   },
   "file_extension": ".py",
   "mimetype": "text/x-python",
   "name": "python",
   "nbconvert_exporter": "python",
   "pygments_lexer": "ipython3",
   "version": "3.6.2"
  }
 },
 "nbformat": 4,
 "nbformat_minor": 2
}
